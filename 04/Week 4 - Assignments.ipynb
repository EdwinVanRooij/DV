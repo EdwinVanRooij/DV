{
 "cells": [
  {
   "cell_type": "markdown",
   "metadata": {},
   "source": [
    "# Week 4"
   ]
  },
  {
   "cell_type": "markdown",
   "metadata": {},
   "source": [
    "##### Assignment 1: Feedback on the story\n",
    "\n",
    "Because my dataset is from the Reddit page /r/worldnews and I'm a regular Reddit visitor, the most frequent articles are not special to me. For this reason, I don't have a story yet and I'd like to base my story upon feedback to my visualization of the 2012-2014 trend received by others. Maybe they could find something shocking or unexpected in the trend that has been going on between 2012 and 2014 as described in my week 3 assignments. "
   ]
  },
  {
   "cell_type": "markdown",
   "metadata": {},
   "source": [
    "##### Assignment 2: Feedback on the poster\n",
    "\n",
    "We have received mainly positive feedback from visitors at the poster conference. The visual guidelines were clear to follow as intended. There's been one good tip though, which is that white text on a light blue background is hard to read."
   ]
  },
  {
   "cell_type": "markdown",
   "metadata": {},
   "source": [
    "##### Assignment 3: Design your visualization\n",
    "\n",
    "<img src=\"Design.png\">"
   ]
  }
 ],
 "metadata": {
  "kernelspec": {
   "display_name": "Python 3",
   "language": "python",
   "name": "python3"
  },
  "language_info": {
   "codemirror_mode": {
    "name": "ipython",
    "version": 3
   },
   "file_extension": ".py",
   "mimetype": "text/x-python",
   "name": "python",
   "nbconvert_exporter": "python",
   "pygments_lexer": "ipython3",
   "version": "3.6.1"
  }
 },
 "nbformat": 4,
 "nbformat_minor": 2
}
