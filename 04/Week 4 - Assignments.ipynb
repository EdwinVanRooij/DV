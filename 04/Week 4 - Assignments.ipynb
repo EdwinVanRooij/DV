{
 "cells": [
  {
   "cell_type": "markdown",
   "metadata": {},
   "source": [
    "# Week 4"
   ]
  },
  {
   "cell_type": "markdown",
   "metadata": {},
   "source": [
    "##### Assignment 1: Feedback on the story\n",
    "\n",
    "Because my dataset is from the Reddit page /r/worldnews and I'm a regular Reddit visitor, the most frequent articles are not special to me. For this reason, I don't have a story yet and I'd like to base my story upon feedback to my visualization of the 2012-2014 trend received by others. Maybe they could find something shocking or unexpected in the trend that has been going on between 2012 and 2014 as described in my week 3 assignments. "
   ]
  },
  {
   "cell_type": "markdown",
   "metadata": {},
   "source": [
    "##### Assignment 2: Feedback on the poster\n",
    "\n",
    "We have received mainly positive feedback from visitors at the poster conference. The visual guidelines were clear to follow as intended. There's been one good tip though, which is that white text on a light blue background is hard to read."
   ]
  },
  {
   "cell_type": "markdown",
   "metadata": {},
   "source": [
    "##### Assignment 3: Design your visualization"
   ]
  },
  {
   "cell_type": "markdown",
   "metadata": {},
   "source": [
    "## Design 1\n",
    "<img src=\"Design-1.jpg\">\n",
    "\n",
    "\n",
    "## Design 2\n",
    "<img src=\"Design-2.jpg\">\n",
    "\n",
    "\n",
    "## Design 3\n",
    "<img src=\"Design-3.jpg\">"
   ]
  },
  {
   "cell_type": "markdown",
   "metadata": {},
   "source": [
    "## Preferred design: 3\n",
    "\n",
    "This is the best worked out design and I'm really excited to bring it to life.\n",
    "\n",
    "The design choices are simple yet effective. I chose for a bubble chart to display the amount of times a word has occurred in posts for each particular year set by the timeline. This is also where the interactivity takes place. The user can choose to play the animation or manually move the slider to check word frequencies by year.\n",
    "\n",
    "Once the user selects a bubble on top, the second part of the design activates. Here are two other possibly interesting things shown. The chart on the right shows the activity trend on that topic, while the 'Top Stories' part on the left shows the most popular posts using the selected keyword. "
   ]
  },
  {
   "cell_type": "markdown",
   "metadata": {},
   "source": [
    "##### Assignment 4: Set up your webpage\n",
    "> Done."
   ]
  },
  {
   "cell_type": "markdown",
   "metadata": {},
   "source": [
    "##### Assignment 5: Web visualization basics\n",
    "## < TODO > \n",
    "\n",
    "< Follow (double-speed isok!) Lessons 2 and 5 from the Udacity MOOC. Translate the sketches from exercise 3 into dimple.js charts and post them on your website. Add the assignments (feedback, sketches, links) to your DV portfolio. >"
   ]
  }
 ],
 "metadata": {
  "kernelspec": {
   "display_name": "Python 3",
   "language": "python",
   "name": "python3"
  },
  "language_info": {
   "codemirror_mode": {
    "name": "ipython",
    "version": 3
   },
   "file_extension": ".py",
   "mimetype": "text/x-python",
   "name": "python",
   "nbconvert_exporter": "python",
   "pygments_lexer": "ipython3",
   "version": "3.6.1"
  }
 },
 "nbformat": 4,
 "nbformat_minor": 2
}
