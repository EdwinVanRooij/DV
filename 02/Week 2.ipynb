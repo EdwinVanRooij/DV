{
 "cells": [
  {
   "cell_type": "markdown",
   "metadata": {
    "collapsed": true
   },
   "source": [
    "# Week 2"
   ]
  },
  {
   "cell_type": "markdown",
   "metadata": {
    "collapsed": true
   },
   "source": [
    "##### Assignment: Explore your data and find a story\n",
    "\n",
    "For this assignment I've chosen to really get into coding by myself, rather than using a tool with many predefined visualization tools such as Tableau. I like to be able to customize every bit of my software. For this exact reason, I've chosen to use the JavaScript library D3.js (and maybe http://dimplejs.org/ later on) to create my exloratory data visualizations. \n"
   ]
  },
  {
   "cell_type": "markdown",
   "metadata": {},
   "source": [
    "### D3.js\n",
    "\n",
    "The library has quite a learning curve. I've spent whole days, spread out over multiple weeks to try to get a hang of it. I've read about the first half of 'D3.js By Example' by Michael Heydt, while coding along with the examples. After that, I decided to continue onto the 'Data Visualization and D3.js' course on Udacity to really get familiar with the library. I now feel like I have a good grasp on the essentials, but with an enormous potential to become so much better at visualizing my data by learning more about D3.js, animations for example. \n"
   ]
  },
  {
   "cell_type": "markdown",
   "metadata": {},
   "source": [
    "### The dataset\n",
    "\n",
    "The first step, obviously, is to have a look at what kind of data we're dealing with.\n",
    "Allow me to elaborate."
   ]
  },
  {
   "cell_type": "markdown",
   "metadata": {},
   "source": [
    "```\n",
    "time_created,date_created,up_votes,down_votes,title,over_18,author,subreddit\n",
    "\"1201232046\",\"2008-01-25\",\"3\",\"0\",\"Scores killed in Pakistan clashes\",\"False\",\"polar\",\"worldnews\"\n",
    "\"1201232075\",\"2008-01-25\",\"2\",\"0\",\"Japan resumes refuelling mission\",\"False\",\"polar\",\"worldnews\"\n",
    "\"1201232523\",\"2008-01-25\",\"3\",\"0\",\"US presses Egypt on Gaza border\",\"False\",\"polar\",\"worldnews\"\n",
    "\"1201233290\",\"2008-01-25\",\"1\",\"0\",\"Jump-start economy: Give health care to all \",\"False\",\"fadi420\",\"worldnews\"\n",
    "\"1201274720\",\"2008-01-25\",\"4\",\"0\",\"Council of Europe bashes EU&UN terror blacklist\",\"False\",\"mhermans\",\"worldnews\"\n",
    "```"
   ]
  },
  {
   "cell_type": "markdown",
   "metadata": {},
   "source": [
    "This dataset represents some meta data about posts placed on the internetforum Reddit. Every record contains the time on which the post was created, formatted in seconds since 1970 (Epoch format). Then we have the creation date in a human readable format, the amount of up- and downvotes, etc. Pretty self-explanatory. This dataset contains posts from the 'worldnews' subreddit exclusively. "
   ]
  },
  {
   "cell_type": "markdown",
   "metadata": {},
   "source": [
    "### Exploration\n",
    "\n",
    "Let's get started exploring this data!\n",
    "The first questions which pop into my mind are the following:\n",
    "\n",
    "#### Have the amount of posts generally increased or decreased from 2008 until 2016?\n",
    "> What's causing this trend?\n",
    "\n",
    "(Potential other questions:\n",
    "What about the amount of up- and downvotes on these posts?\n",
    "\\> What's causing this trend?\n",
    ")\n"
   ]
  },
  {
   "cell_type": "markdown",
   "metadata": {},
   "source": [
    "### Visualization\n",
    "\n",
    "To create a proper visualization, we will have to convert the data first. We'll need every year with it's respective amount of posts. \n",
    "\n"
   ]
  }
 ],
 "metadata": {
  "kernelspec": {
   "display_name": "Python 3",
   "language": "python",
   "name": "python3"
  },
  "language_info": {
   "codemirror_mode": {
    "name": "ipython",
    "version": 3
   },
   "file_extension": ".py",
   "mimetype": "text/x-python",
   "name": "python",
   "nbconvert_exporter": "python",
   "pygments_lexer": "ipython3",
   "version": "3.6.1"
  }
 },
 "nbformat": 4,
 "nbformat_minor": 2
}
