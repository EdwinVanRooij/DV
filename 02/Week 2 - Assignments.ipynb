{
 "cells": [
  {
   "cell_type": "markdown",
   "metadata": {
    "collapsed": true
   },
   "source": [
    "# Week 2"
   ]
  },
  {
   "cell_type": "markdown",
   "metadata": {
    "collapsed": true
   },
   "source": [
    "##### Assignment: Explore your data and find a story\n",
    "\n",
    "For this assignment I've chosen to really get into coding by myself, rather than using a tool with many predefined visualization tools such as Tableau. I like to be able to customize every bit of my software. For this exact reason, I've chosen to use the JavaScript library D3.js (and maybe http://dimplejs.org/ later on) to create my exloratory data visualizations. \n"
   ]
  },
  {
   "cell_type": "markdown",
   "metadata": {},
   "source": [
    "### D3.js\n",
    "\n",
    "The library has quite a learning curve. I've spent whole days, spread out over multiple weeks to try to get a hang of it. I've read about the first half of 'D3.js By Example' by Michael Heydt, while coding along with the examples. After that, I decided to continue onto the 'Data Visualization and D3.js' course on Udacity to really get familiar with the library. I now feel like I have a good grasp on the essentials, but with an enormous potential to become so much better at visualizing my data by learning more about D3.js, animations for example. \n"
   ]
  },
  {
   "cell_type": "markdown",
   "metadata": {},
   "source": [
    "### The dataset\n",
    "\n",
    "The first step, obviously, is to have a look at what kind of data we're dealing with.\n",
    "Allow me to elaborate."
   ]
  },
  {
   "cell_type": "markdown",
   "metadata": {},
   "source": [
    "```\n",
    "time_created,date_created,up_votes,down_votes,title,over_18,author,subreddit\n",
    "\"1201232046\",\"2008-01-25\",\"3\",\"0\",\"Scores killed in Pakistan clashes\",\"False\",\"polar\",\"worldnews\"\n",
    "\"1201232075\",\"2008-01-25\",\"2\",\"0\",\"Japan resumes refuelling mission\",\"False\",\"polar\",\"worldnews\"\n",
    "\"1201232523\",\"2008-01-25\",\"3\",\"0\",\"US presses Egypt on Gaza border\",\"False\",\"polar\",\"worldnews\"\n",
    "\"1201233290\",\"2008-01-25\",\"1\",\"0\",\"Jump-start economy: Give health care to all \",\"False\",\"fadi420\",\"worldnews\"\n",
    "\"1201274720\",\"2008-01-25\",\"4\",\"0\",\"Council of Europe bashes EU&UN terror blacklist\",\"False\",\"mhermans\",\"worldnews\"\n",
    "```"
   ]
  },
  {
   "cell_type": "markdown",
   "metadata": {},
   "source": [
    "This dataset represents some meta data about posts placed on the internetforum Reddit. Every record contains the time on which the post was created, formatted in seconds since 1970 (Epoch format). Then we have the creation date in a human readable format, the amount of up- and downvotes, etc. Pretty self-explanatory. This dataset contains posts from the 'worldnews' subreddit exclusively. "
   ]
  },
  {
   "cell_type": "markdown",
   "metadata": {},
   "source": [
    "### Exploration\n",
    "\n",
    "Let's get started exploring this data!\n",
    "The first questions which pop into my mind are the following:\n",
    "\n",
    "#### Have the amount of posts generally increased or decreased from 2008 until 2016?\n",
    "> What's causing this trend?\n",
    "\n",
    "(Potential other questions:\n",
    "What about the amount of up- and downvotes on these posts?\n",
    "\\> What's causing this trend?\n",
    ")\n"
   ]
  },
  {
   "cell_type": "markdown",
   "metadata": {},
   "source": [
    "### Visualization\n",
    "\n",
    "To create a proper visualization, we will have to convert the data first. We'll need every year with it's respective amount of posts. \n",
    "\n",
    "<img src=\"images/by year.png\">\n",
    "\n",
    "After visualizing by year, the data seems a little limited in amounts. Let's convert the data to show the amount for each quarter instead.\n",
    "\n",
    "<img src=\"images/by quarter.png\">\n",
    "\n",
    "Here is the final code for convertion to quarters:\n",
    "\n",
    "```python\n",
    "import csv\n",
    "\n",
    "with open('../data.csv', 'r') as f:\n",
    "    reader = csv.reader(f)\n",
    "    your_list = list(reader)\n",
    "\n",
    "final_dict = dict()\n",
    "\n",
    "for item in your_list[1:]:\n",
    "    year = item[1][0:4]\n",
    "    month = item[1][5:7]\n",
    "    if 1 <= int(month) <= 3:\n",
    "        quarter = 1\n",
    "    elif 4 <= int(month) <= 6:\n",
    "        quarter = 2\n",
    "    elif 7 <= int(month) <= 9:\n",
    "        quarter = 3\n",
    "    else:\n",
    "        quarter = 4\n",
    "    key = year + '-' + str(quarter)\n",
    "    final_dict[key] = final_dict.get(key, 0) + 1\n",
    "\n",
    "print(final_dict)\n",
    "\n",
    "with open('../posts-by-quarter.csv', 'w', newline='') as csvfile:\n",
    "    writer = csv.writer(csvfile, delimiter=',',\n",
    "                        quotechar='\"', quoting=csv.QUOTE_MINIMAL)\n",
    "\n",
    "    writer.writerow(['year', 'amount'])\n",
    "    for key in final_dict:\n",
    "        writer.writerow([key, final_dict[key]])\n",
    "\n",
    "```"
   ]
  },
  {
   "cell_type": "markdown",
   "metadata": {},
   "source": [
    "### Increased\n",
    "\n",
    "Answering the main question, the amount of posts have generally obviously increased."
   ]
  },
  {
   "cell_type": "markdown",
   "metadata": {},
   "source": [
    "# Feedback\n",
    "\n",
    "After receiving feedback from the teacher, I've decided to re-do the exploration phase. This time I'll be using the better suitable python libraries for exploration, like my teacher advised me to in our conversation.\n",
    "\n",
    "## '1. Let's have a look at the data'"
   ]
  },
  {
   "cell_type": "code",
   "execution_count": 1,
   "metadata": {},
   "outputs": [
    {
     "data": {
      "text/html": [
       "<div>\n",
       "<style>\n",
       "    .dataframe thead tr:only-child th {\n",
       "        text-align: right;\n",
       "    }\n",
       "\n",
       "    .dataframe thead th {\n",
       "        text-align: left;\n",
       "    }\n",
       "\n",
       "    .dataframe tbody tr th {\n",
       "        vertical-align: top;\n",
       "    }\n",
       "</style>\n",
       "<table border=\"1\" class=\"dataframe\">\n",
       "  <thead>\n",
       "    <tr style=\"text-align: right;\">\n",
       "      <th></th>\n",
       "      <th>time_created</th>\n",
       "      <th>date_created</th>\n",
       "      <th>up_votes</th>\n",
       "      <th>down_votes</th>\n",
       "      <th>title</th>\n",
       "      <th>over_18</th>\n",
       "      <th>author</th>\n",
       "      <th>subreddit</th>\n",
       "    </tr>\n",
       "  </thead>\n",
       "  <tbody>\n",
       "    <tr>\n",
       "      <th>0</th>\n",
       "      <td>1201232046</td>\n",
       "      <td>2008-01-25</td>\n",
       "      <td>3</td>\n",
       "      <td>0</td>\n",
       "      <td>Scores killed in Pakistan clashes</td>\n",
       "      <td>False</td>\n",
       "      <td>polar</td>\n",
       "      <td>worldnews</td>\n",
       "    </tr>\n",
       "    <tr>\n",
       "      <th>1</th>\n",
       "      <td>1201232075</td>\n",
       "      <td>2008-01-25</td>\n",
       "      <td>2</td>\n",
       "      <td>0</td>\n",
       "      <td>Japan resumes refuelling mission</td>\n",
       "      <td>False</td>\n",
       "      <td>polar</td>\n",
       "      <td>worldnews</td>\n",
       "    </tr>\n",
       "    <tr>\n",
       "      <th>2</th>\n",
       "      <td>1201232523</td>\n",
       "      <td>2008-01-25</td>\n",
       "      <td>3</td>\n",
       "      <td>0</td>\n",
       "      <td>US presses Egypt on Gaza border</td>\n",
       "      <td>False</td>\n",
       "      <td>polar</td>\n",
       "      <td>worldnews</td>\n",
       "    </tr>\n",
       "    <tr>\n",
       "      <th>3</th>\n",
       "      <td>1201233290</td>\n",
       "      <td>2008-01-25</td>\n",
       "      <td>1</td>\n",
       "      <td>0</td>\n",
       "      <td>Jump-start economy: Give health care to all</td>\n",
       "      <td>False</td>\n",
       "      <td>fadi420</td>\n",
       "      <td>worldnews</td>\n",
       "    </tr>\n",
       "    <tr>\n",
       "      <th>4</th>\n",
       "      <td>1201274720</td>\n",
       "      <td>2008-01-25</td>\n",
       "      <td>4</td>\n",
       "      <td>0</td>\n",
       "      <td>Council of Europe bashes EU&amp;UN terror blacklist</td>\n",
       "      <td>False</td>\n",
       "      <td>mhermans</td>\n",
       "      <td>worldnews</td>\n",
       "    </tr>\n",
       "  </tbody>\n",
       "</table>\n",
       "</div>"
      ],
      "text/plain": [
       "   time_created date_created  up_votes  down_votes  \\\n",
       "0    1201232046   2008-01-25         3           0   \n",
       "1    1201232075   2008-01-25         2           0   \n",
       "2    1201232523   2008-01-25         3           0   \n",
       "3    1201233290   2008-01-25         1           0   \n",
       "4    1201274720   2008-01-25         4           0   \n",
       "\n",
       "                                             title  over_18    author  \\\n",
       "0                Scores killed in Pakistan clashes    False     polar   \n",
       "1                 Japan resumes refuelling mission    False     polar   \n",
       "2                  US presses Egypt on Gaza border    False     polar   \n",
       "3     Jump-start economy: Give health care to all     False   fadi420   \n",
       "4  Council of Europe bashes EU&UN terror blacklist    False  mhermans   \n",
       "\n",
       "   subreddit  \n",
       "0  worldnews  \n",
       "1  worldnews  \n",
       "2  worldnews  \n",
       "3  worldnews  \n",
       "4  worldnews  "
      ]
     },
     "execution_count": 1,
     "metadata": {},
     "output_type": "execute_result"
    }
   ],
   "source": [
    "import numpy as np\n",
    "import matplotlib as mpl\n",
    "import pandas as pd\n",
    "from matplotlib import pyplot as plt\n",
    "\n",
    "# we need the following line to indicate that the plots should be shown inline with the Jupyter notebook.\n",
    "%matplotlib inline\n",
    "\n",
    "# df = pd.read_csv('../data/1000-rows.csv', sep=',', low_memory=False, encoding = 'ISO-8859-1')\n",
    "df = pd.read_csv('../data/data.csv', sep=',', low_memory=False, encoding = 'ISO-8859-1')\n",
    "\n",
    "df.head()"
   ]
  },
  {
   "cell_type": "markdown",
   "metadata": {},
   "source": [
    "We have 8 columns of which 7 are useful. The 'subreddit' column contains the value 'worldnews' in every record.\n",
    "\n",
    "These are the data types."
   ]
  },
  {
   "cell_type": "code",
   "execution_count": 2,
   "metadata": {},
   "outputs": [
    {
     "data": {
      "text/html": [
       "<div>\n",
       "<style>\n",
       "    .dataframe thead tr:only-child th {\n",
       "        text-align: right;\n",
       "    }\n",
       "\n",
       "    .dataframe thead th {\n",
       "        text-align: left;\n",
       "    }\n",
       "\n",
       "    .dataframe tbody tr th {\n",
       "        vertical-align: top;\n",
       "    }\n",
       "</style>\n",
       "<table border=\"1\" class=\"dataframe\">\n",
       "  <thead>\n",
       "    <tr style=\"text-align: right;\">\n",
       "      <th></th>\n",
       "      <th>time_created</th>\n",
       "      <th>date_created</th>\n",
       "      <th>up_votes</th>\n",
       "      <th>down_votes</th>\n",
       "      <th>title</th>\n",
       "      <th>over_18</th>\n",
       "      <th>author</th>\n",
       "    </tr>\n",
       "  </thead>\n",
       "  <tbody>\n",
       "    <tr>\n",
       "      <th>0</th>\n",
       "      <td>1201232046</td>\n",
       "      <td>2008-01-25</td>\n",
       "      <td>3</td>\n",
       "      <td>0</td>\n",
       "      <td>Scores killed in Pakistan clashes</td>\n",
       "      <td>False</td>\n",
       "      <td>polar</td>\n",
       "    </tr>\n",
       "    <tr>\n",
       "      <th>1</th>\n",
       "      <td>1201232075</td>\n",
       "      <td>2008-01-25</td>\n",
       "      <td>2</td>\n",
       "      <td>0</td>\n",
       "      <td>Japan resumes refuelling mission</td>\n",
       "      <td>False</td>\n",
       "      <td>polar</td>\n",
       "    </tr>\n",
       "    <tr>\n",
       "      <th>2</th>\n",
       "      <td>1201232523</td>\n",
       "      <td>2008-01-25</td>\n",
       "      <td>3</td>\n",
       "      <td>0</td>\n",
       "      <td>US presses Egypt on Gaza border</td>\n",
       "      <td>False</td>\n",
       "      <td>polar</td>\n",
       "    </tr>\n",
       "    <tr>\n",
       "      <th>3</th>\n",
       "      <td>1201233290</td>\n",
       "      <td>2008-01-25</td>\n",
       "      <td>1</td>\n",
       "      <td>0</td>\n",
       "      <td>Jump-start economy: Give health care to all</td>\n",
       "      <td>False</td>\n",
       "      <td>fadi420</td>\n",
       "    </tr>\n",
       "    <tr>\n",
       "      <th>4</th>\n",
       "      <td>1201274720</td>\n",
       "      <td>2008-01-25</td>\n",
       "      <td>4</td>\n",
       "      <td>0</td>\n",
       "      <td>Council of Europe bashes EU&amp;UN terror blacklist</td>\n",
       "      <td>False</td>\n",
       "      <td>mhermans</td>\n",
       "    </tr>\n",
       "  </tbody>\n",
       "</table>\n",
       "</div>"
      ],
      "text/plain": [
       "   time_created date_created  up_votes  down_votes  \\\n",
       "0    1201232046   2008-01-25         3           0   \n",
       "1    1201232075   2008-01-25         2           0   \n",
       "2    1201232523   2008-01-25         3           0   \n",
       "3    1201233290   2008-01-25         1           0   \n",
       "4    1201274720   2008-01-25         4           0   \n",
       "\n",
       "                                             title  over_18    author  \n",
       "0                Scores killed in Pakistan clashes    False     polar  \n",
       "1                 Japan resumes refuelling mission    False     polar  \n",
       "2                  US presses Egypt on Gaza border    False     polar  \n",
       "3     Jump-start economy: Give health care to all     False   fadi420  \n",
       "4  Council of Europe bashes EU&UN terror blacklist    False  mhermans  "
      ]
     },
     "execution_count": 2,
     "metadata": {},
     "output_type": "execute_result"
    }
   ],
   "source": [
    "# Let's remove the unused column first\n",
    "\n",
    "df = df.drop(labels='subreddit', axis=1) # axis 1 drops columns, 0 will drop rows that match index value in labels\n",
    "df.head()"
   ]
  },
  {
   "cell_type": "code",
   "execution_count": 3,
   "metadata": {},
   "outputs": [
    {
     "data": {
      "text/plain": [
       "time_created     int64\n",
       "date_created    object\n",
       "up_votes         int64\n",
       "down_votes       int64\n",
       "title           object\n",
       "over_18           bool\n",
       "author          object\n",
       "dtype: object"
      ]
     },
     "execution_count": 3,
     "metadata": {},
     "output_type": "execute_result"
    }
   ],
   "source": [
    "# The datatypes\n",
    "\n",
    "df.dtypes"
   ]
  },
  {
   "cell_type": "markdown",
   "metadata": {},
   "source": [
    "## '2. Visuals'\n",
    "\n",
    "Now that we know what kind of data we're dealing with, let's have a look at the numerical values first."
   ]
  },
  {
   "cell_type": "markdown",
   "metadata": {},
   "source": [
    "> In the histogram right below it's made clear that an incredibly high percentage of our records have zero upvotes."
   ]
  },
  {
   "cell_type": "code",
   "execution_count": 4,
   "metadata": {},
   "outputs": [
    {
     "data": {
      "text/plain": [
       "<matplotlib.text.Text at 0x7fafa9b14c50>"
      ]
     },
     "execution_count": 4,
     "metadata": {},
     "output_type": "execute_result"
    },
    {
     "data": {
      "image/png": "[encoded data removed]",
      "text/plain": [
       "<matplotlib.figure.Figure at 0x7fafa9b57588>"
      ]
     },
     "metadata": {},
     "output_type": "display_data"
    }
   ],
   "source": [
    "prop = df['up_votes']\n",
    "\n",
    "plt.hist(prop)\n",
    "plt.title('Upvotes')\n",
    "plt.xlabel('amount of upvotes')\n",
    "plt.ylabel('frequency')"
   ]
  },
  {
   "cell_type": "markdown",
   "metadata": {},
   "source": [
    "> The visualization below seems to tells us there is there are no downvotes on any of the posts, at all."
   ]
  },
  {
   "cell_type": "code",
   "execution_count": 5,
   "metadata": {},
   "outputs": [
    {
     "data": {
      "text/plain": [
       "<matplotlib.text.Text at 0x7fafa9a1d828>"
      ]
     },
     "execution_count": 5,
     "metadata": {},
     "output_type": "execute_result"
    },
    {
     "data": {
      "image/png": "[encoded data removed]",
      "text/plain": [
       "<matplotlib.figure.Figure at 0x7fafa9b57940>"
      ]
     },
     "metadata": {},
     "output_type": "display_data"
    }
   ],
   "source": [
    "prop = df['down_votes']\n",
    "\n",
    "plt.hist(prop)\n",
    "plt.title('Downvotes')\n",
    "plt.xlabel('amount of downvotes')\n",
    "plt.ylabel('frequency')"
   ]
  },
  {
   "cell_type": "code",
   "execution_count": 6,
   "metadata": {},
   "outputs": [
    {
     "data": {
      "text/plain": [
       "<matplotlib.text.Text at 0x7fafa996d2e8>"
      ]
     },
     "execution_count": 6,
     "metadata": {},
     "output_type": "execute_result"
    },
    {
     "data": {
      "image/png": "[encoded data removed]",
      "text/plain": [
       "<matplotlib.figure.Figure at 0x7fafa9e88908>"
      ]
     },
     "metadata": {},
     "output_type": "display_data"
    }
   ],
   "source": [
    "count_result = df.groupby('over_18').count()\n",
    "\n",
    "underage = count_result.iloc[0][0]\n",
    "adult = count_result.iloc[1][1]\n",
    "\n",
    "objects = ('Underage ({})'.format(underage), 'Adult ({})'.format(adult))\n",
    "y_pos = np.arange(len(objects))\n",
    "amount_of_posts = [underage, adult]\n",
    "\n",
    "plt.title('Post distribution between underage and adult authors')\n",
    "plt.bar(y_pos, amount_of_posts, align='center')\n",
    "plt.xticks(y_pos, objects)\n",
    "plt.ylabel('Amount of posts')"
   ]
  },
  {
   "cell_type": "markdown",
   "metadata": {},
   "source": [
    "> This is a rather surprising result. It seems that an incredibly huge majority of the authors on the subreddit of 'worldnews' is underage. "
   ]
  },
  {
   "cell_type": "code",
   "execution_count": 7,
   "metadata": {},
   "outputs": [
    {
     "data": {
      "text/html": [
       "<div>\n",
       "<style>\n",
       "    .dataframe thead tr:only-child th {\n",
       "        text-align: right;\n",
       "    }\n",
       "\n",
       "    .dataframe thead th {\n",
       "        text-align: left;\n",
       "    }\n",
       "\n",
       "    .dataframe tbody tr th {\n",
       "        vertical-align: top;\n",
       "    }\n",
       "</style>\n",
       "<table border=\"1\" class=\"dataframe\">\n",
       "  <thead>\n",
       "    <tr style=\"text-align: right;\">\n",
       "      <th></th>\n",
       "      <th>time_created</th>\n",
       "      <th>date_created</th>\n",
       "      <th>up_votes</th>\n",
       "      <th>down_votes</th>\n",
       "      <th>title</th>\n",
       "      <th>over_18</th>\n",
       "      <th>author</th>\n",
       "    </tr>\n",
       "  </thead>\n",
       "  <tbody>\n",
       "    <tr>\n",
       "      <th>0</th>\n",
       "      <td>1201232046</td>\n",
       "      <td>2008-01-25</td>\n",
       "      <td>3</td>\n",
       "      <td>0</td>\n",
       "      <td>Scores killed in Pakistan clashes</td>\n",
       "      <td>False</td>\n",
       "      <td>polar</td>\n",
       "    </tr>\n",
       "    <tr>\n",
       "      <th>1</th>\n",
       "      <td>1201232075</td>\n",
       "      <td>2008-01-25</td>\n",
       "      <td>2</td>\n",
       "      <td>0</td>\n",
       "      <td>Japan resumes refuelling mission</td>\n",
       "      <td>False</td>\n",
       "      <td>polar</td>\n",
       "    </tr>\n",
       "    <tr>\n",
       "      <th>2</th>\n",
       "      <td>1201232523</td>\n",
       "      <td>2008-01-25</td>\n",
       "      <td>3</td>\n",
       "      <td>0</td>\n",
       "      <td>US presses Egypt on Gaza border</td>\n",
       "      <td>False</td>\n",
       "      <td>polar</td>\n",
       "    </tr>\n",
       "    <tr>\n",
       "      <th>3</th>\n",
       "      <td>1201233290</td>\n",
       "      <td>2008-01-25</td>\n",
       "      <td>1</td>\n",
       "      <td>0</td>\n",
       "      <td>Jump-start economy: Give health care to all</td>\n",
       "      <td>False</td>\n",
       "      <td>fadi420</td>\n",
       "    </tr>\n",
       "    <tr>\n",
       "      <th>4</th>\n",
       "      <td>1201274720</td>\n",
       "      <td>2008-01-25</td>\n",
       "      <td>4</td>\n",
       "      <td>0</td>\n",
       "      <td>Council of Europe bashes EU&amp;UN terror blacklist</td>\n",
       "      <td>False</td>\n",
       "      <td>mhermans</td>\n",
       "    </tr>\n",
       "  </tbody>\n",
       "</table>\n",
       "</div>"
      ],
      "text/plain": [
       "   time_created date_created  up_votes  down_votes  \\\n",
       "0    1201232046   2008-01-25         3           0   \n",
       "1    1201232075   2008-01-25         2           0   \n",
       "2    1201232523   2008-01-25         3           0   \n",
       "3    1201233290   2008-01-25         1           0   \n",
       "4    1201274720   2008-01-25         4           0   \n",
       "\n",
       "                                             title  over_18    author  \n",
       "0                Scores killed in Pakistan clashes    False     polar  \n",
       "1                 Japan resumes refuelling mission    False     polar  \n",
       "2                  US presses Egypt on Gaza border    False     polar  \n",
       "3     Jump-start economy: Give health care to all     False   fadi420  \n",
       "4  Council of Europe bashes EU&UN terror blacklist    False  mhermans  "
      ]
     },
     "execution_count": 7,
     "metadata": {},
     "output_type": "execute_result"
    }
   ],
   "source": [
    "# Show the dataframe again for development purposes\n",
    "df.head()"
   ]
  },
  {
   "cell_type": "code",
   "execution_count": 8,
   "metadata": {},
   "outputs": [
    {
     "data": {
      "text/plain": [
       "[<matplotlib.lines.Line2D at 0x7fafa9a4a048>]"
      ]
     },
     "execution_count": 8,
     "metadata": {},
     "output_type": "execute_result"
    },
    {
     "data": {
      "image/png": "[encoded data removed]",
      "text/plain": [
       "<matplotlib.figure.Figure at 0x7fafa9955438>"
      ]
     },
     "metadata": {},
     "output_type": "display_data"
    }
   ],
   "source": [
    "cdf = df.groupby('date_created').size().reset_index(name='counts')\n",
    "\n",
    "x = cdf.date_created\n",
    "y = cdf.counts\n",
    "\n",
    "plt.plot_date(x=x, y=y, fmt='b-')"
   ]
  },
  {
   "cell_type": "markdown",
   "metadata": {},
   "source": [
    "> Here we can see the trend for the total amount of posts has significantly increased between around 2012 and 2014 especially. "
   ]
  },
  {
   "cell_type": "code",
   "execution_count": 9,
   "metadata": {},
   "outputs": [
    {
     "data": {
      "text/plain": [
       "<matplotlib.text.Text at 0x7fafa9824668>"
      ]
     },
     "execution_count": 9,
     "metadata": {},
     "output_type": "execute_result"
    },
    {
     "data": {
      "image/png": "[encoded data removed]",
      "text/plain": [
       "<matplotlib.figure.Figure at 0x7fafa988d8d0>"
      ]
     },
     "metadata": {},
     "output_type": "display_data"
    }
   ],
   "source": [
    "adf = df.groupby('author').size().reset_index(name='counts')\n",
    "adf = adf.sort_values(by=['counts', 'author'], ascending=False)\n",
    "adf = adf.head(30)\n",
    "\n",
    "authors = adf['author']\n",
    "posts = adf['counts']\n",
    "\n",
    "y_pos = np.arange(len(authors))\n",
    "\n",
    "plt.title('Post distribution between the 30 most active authors')\n",
    "plt.bar(y_pos, posts, align='center')\n",
    "plt.xticks(y_pos, authors)\n",
    "plt.xticks(rotation=90)\n",
    "plt.ylabel('Amount of posts')"
   ]
  },
  {
   "cell_type": "markdown",
   "metadata": {},
   "source": [
    "> Down below is the distribution of the amount of posts by the 30 most active authors of this subreddit. We can see 'davidreiss666' posting much more often than the other most active authors."
   ]
  },
  {
   "cell_type": "markdown",
   "metadata": {},
   "source": [
    "# Date created & authors"
   ]
  },
  {
   "cell_type": "markdown",
   "metadata": {},
   "source": [
    "## '3. Questions'\n",
    "\n",
    "### 30 most active authors\n",
    "\n",
    "The most interesting visualization to me is the distribution of the 30 most active authors. Why is there one author who posts so much more than the second most active author?\n",
    "\n",
    "A quick google search for the name 'davidreiss666' has taught me that he actually is a reddit moderator, so there's no interesting story behind this outlier here.\n",
    "\n",
    "### Trend of more posts\n",
    "\n",
    "The second most interesting visualization to me is the one which shows the trend of the total amount posts. What happened between 2012 and 2014 which has made the total amount of posts in '/r/worldnews' grow so rapidly and stayed much more active consistently after that period?\n",
    "\n",
    "To answer this question, it could be useful to check the most popular posts in this period of time. "
   ]
  },
  {
   "cell_type": "code",
   "execution_count": 10,
   "metadata": {},
   "outputs": [
    {
     "data": {
      "text/html": [
       "<div>\n",
       "<style>\n",
       "    .dataframe thead tr:only-child th {\n",
       "        text-align: right;\n",
       "    }\n",
       "\n",
       "    .dataframe thead th {\n",
       "        text-align: left;\n",
       "    }\n",
       "\n",
       "    .dataframe tbody tr th {\n",
       "        vertical-align: top;\n",
       "    }\n",
       "</style>\n",
       "<table border=\"1\" class=\"dataframe\">\n",
       "  <thead>\n",
       "    <tr style=\"text-align: right;\">\n",
       "      <th></th>\n",
       "      <th>date_created</th>\n",
       "      <th>up_votes</th>\n",
       "      <th>title</th>\n",
       "    </tr>\n",
       "  </thead>\n",
       "  <tbody>\n",
       "    <tr>\n",
       "      <th>187603</th>\n",
       "      <td>2013-06-08</td>\n",
       "      <td>10159</td>\n",
       "      <td>What we have... is... concrete proof of U.S.-...</td>\n",
       "    </tr>\n",
       "    <tr>\n",
       "      <th>206253</th>\n",
       "      <td>2013-08-20</td>\n",
       "      <td>7700</td>\n",
       "      <td>British PM David Cameron told a member of his ...</td>\n",
       "    </tr>\n",
       "    <tr>\n",
       "      <th>147907</th>\n",
       "      <td>2012-11-28</td>\n",
       "      <td>7457</td>\n",
       "      <td>Canada creates $5,000 cap on liability for fil...</td>\n",
       "    </tr>\n",
       "    <tr>\n",
       "      <th>289201</th>\n",
       "      <td>2014-07-16</td>\n",
       "      <td>6889</td>\n",
       "      <td>German footballer Mesut Ozil donated his â¬30...</td>\n",
       "    </tr>\n",
       "    <tr>\n",
       "      <th>303557</th>\n",
       "      <td>2014-09-04</td>\n",
       "      <td>6385</td>\n",
       "      <td>After convincing China to give up shark fin so...</td>\n",
       "    </tr>\n",
       "    <tr>\n",
       "      <th>234248</th>\n",
       "      <td>2013-12-07</td>\n",
       "      <td>6367</td>\n",
       "      <td>Muslim Patrol  jailed for harassing couple ho...</td>\n",
       "    </tr>\n",
       "    <tr>\n",
       "      <th>310102</th>\n",
       "      <td>2014-09-26</td>\n",
       "      <td>6037</td>\n",
       "      <td>Hong Kong students storm government HQ to dema...</td>\n",
       "    </tr>\n",
       "    <tr>\n",
       "      <th>309732</th>\n",
       "      <td>2014-09-25</td>\n",
       "      <td>5865</td>\n",
       "      <td>Terror laws clear Senate, enabling entire Aust...</td>\n",
       "    </tr>\n",
       "    <tr>\n",
       "      <th>284595</th>\n",
       "      <td>2014-06-24</td>\n",
       "      <td>5795</td>\n",
       "      <td>Neurotoxic pesticides blamed for the world s b...</td>\n",
       "    </tr>\n",
       "    <tr>\n",
       "      <th>280441</th>\n",
       "      <td>2014-06-05</td>\n",
       "      <td>5775</td>\n",
       "      <td>Quebec passes  dying with dignity  bill, allow...</td>\n",
       "    </tr>\n",
       "  </tbody>\n",
       "</table>\n",
       "</div>"
      ],
      "text/plain": [
       "       date_created  up_votes  \\\n",
       "187603   2013-06-08     10159   \n",
       "206253   2013-08-20      7700   \n",
       "147907   2012-11-28      7457   \n",
       "289201   2014-07-16      6889   \n",
       "303557   2014-09-04      6385   \n",
       "234248   2013-12-07      6367   \n",
       "310102   2014-09-26      6037   \n",
       "309732   2014-09-25      5865   \n",
       "284595   2014-06-24      5795   \n",
       "280441   2014-06-05      5775   \n",
       "\n",
       "                                                    title  \n",
       "187603   What we have... is... concrete proof of U.S.-...  \n",
       "206253  British PM David Cameron told a member of his ...  \n",
       "147907  Canada creates $5,000 cap on liability for fil...  \n",
       "289201  German footballer Mesut Ozil donated his â¬30...  \n",
       "303557  After convincing China to give up shark fin so...  \n",
       "234248   Muslim Patrol  jailed for harassing couple ho...  \n",
       "310102  Hong Kong students storm government HQ to dema...  \n",
       "309732  Terror laws clear Senate, enabling entire Aust...  \n",
       "284595  Neurotoxic pesticides blamed for the world s b...  \n",
       "280441  Quebec passes  dying with dignity  bill, allow...  "
      ]
     },
     "execution_count": 10,
     "metadata": {},
     "output_type": "execute_result"
    }
   ],
   "source": [
    "tdf = df[['date_created', 'up_votes', 'title']]\n",
    "\n",
    "mask = (tdf['date_created'] > '2012-1-1') & (tdf['date_created'] <= '2014-1-1')\n",
    "tdf = tdf.loc[mask]\n",
    "\n",
    "tdf = tdf.sort_values(by='up_votes', ascending=False)\n",
    "\n",
    "tdf.head(10)"
   ]
  },
  {
   "cell_type": "markdown",
   "metadata": {},
   "source": [
    "> The titles of these posts still seem very divergent. There's no definitive cause to be concluded from this little research.\n",
    "\n",
    "> Instead of searching through the most popular posts, let's instead search for the most used words from every post in the period from 2012 to 2014. If we see some keywords used very popularly, we may be able to conclude the cause from the trend of more posts."
   ]
  },
  {
   "cell_type": "code",
   "execution_count": 19,
   "metadata": {
    "collapsed": true
   },
   "outputs": [],
   "source": [
    "# Count the words from every title of every post between 2012 and 2014.\n",
    "# Sort the words by frequency. \n",
    "# Omit stopwords like 'the', 'is', 'and', etc...\n",
    "\n",
    "# Get all posts from 2012 till 2014.\n",
    "tdf = df.copy()\n",
    "\n",
    "# Ensure date_created is a datetime object\n",
    "tdf['date_created'] = pd.to_datetime(df['date_created'])  \n",
    "\n",
    "# Create and apply a boolean mask \n",
    "mask = (tdf['date_created'] >= '2012-1-1') & (tdf['date_created'] < '2014-1-1')\n",
    "tdf = tdf.loc[mask]\n",
    "\n",
    "# Only keep the titles\n",
    "tdf = tdf[['title']]\n",
    "\n",
    "titles = tdf['title'].tolist()\n",
    "\n",
    "\n",
    "# Now count the words\n",
    "from collections import Counter\n",
    "from nltk.corpus import stopwords\n",
    "\n",
    "counts = Counter()\n",
    "s_words = stopwords.words('english')\n",
    "s_words.append('-')\n",
    "\n",
    "for sentence in titles:\n",
    "    words = [word.strip('.,?!\"\\'').lower() for word in sentence.split()]\n",
    "    filtered_words = [w for w in words if w not in s_words]\n",
    "    counts.update(filtered_words)\n"
   ]
  },
  {
   "cell_type": "code",
   "execution_count": 20,
   "metadata": {},
   "outputs": [
    {
     "data": {
      "text/plain": [
       "(('syria',\n",
       "  'new',\n",
       "  'china',\n",
       "  'says',\n",
       "  'us',\n",
       "  'police',\n",
       "  'iran',\n",
       "  'government',\n",
       "  'president',\n",
       "  'world',\n",
       "  'syrian',\n",
       "  'u.s',\n",
       "  'north',\n",
       "  'news',\n",
       "  'killed'),\n",
       " (6880,\n",
       "  6476,\n",
       "  6408,\n",
       "  5772,\n",
       "  5438,\n",
       "  4542,\n",
       "  4312,\n",
       "  4209,\n",
       "  4147,\n",
       "  4145,\n",
       "  4115,\n",
       "  3870,\n",
       "  3865,\n",
       "  3803,\n",
       "  3715))"
      ]
     },
     "execution_count": 20,
     "metadata": {},
     "output_type": "execute_result"
    }
   ],
   "source": [
    "most_common = counts.most_common(15)\n",
    "most_common\n",
    "\n",
    "L = zip(*most_common)\n",
    "words, frequency = L\n",
    "\n",
    "words, frequency"
   ]
  },
  {
   "cell_type": "code",
   "execution_count": 14,
   "metadata": {},
   "outputs": [
    {
     "data": {
      "text/plain": [
       "<matplotlib.text.Text at 0x7faf91dddbe0>"
      ]
     },
     "execution_count": 14,
     "metadata": {},
     "output_type": "execute_result"
    },
    {
     "data": {
      "image/png": "[encoded data removed]",
      "text/plain": [
       "<matplotlib.figure.Figure at 0x7faf91d6eda0>"
      ]
     },
     "metadata": {},
     "output_type": "display_data"
    }
   ],
   "source": [
    "y_pos = np.arange(len(words))\n",
    "\n",
    "plt.title('Most used words between 2012 and 2014')\n",
    "plt.bar(y_pos, frequency, align='center')\n",
    "plt.xticks(y_pos, authors)\n",
    "plt.xticks(rotation=45)\n",
    "plt.ylabel('Frequency')"
   ]
  },
  {
   "cell_type": "markdown",
   "metadata": {},
   "source": [
    "## '4. Conclusions'\n",
    "\n",
    "It seems that the syria conflict has had a massive impact on the post growth between 2012 and 2014. Closely followed by speculations (look at the word 'says') between China and the U.S. It is worth noticing that both 'us' and 'u.s' are in the top 15 most used words, just like 'syria' and 'syrian'. Thus can be concluded that these two subjects have had the biggest influence to the post growth trend."
   ]
  }
 ],
 "metadata": {
  "kernelspec": {
   "display_name": "Python 3",
   "language": "python",
   "name": "python3"
  },
  "language_info": {
   "codemirror_mode": {
    "name": "ipython",
    "version": 3
   },
   "file_extension": ".py",
   "mimetype": "text/x-python",
   "name": "python",
   "nbconvert_exporter": "python",
   "pygments_lexer": "ipython3",
   "version": "3.6.3"
  }
 },
 "nbformat": 4,
 "nbformat_minor": 2
}
