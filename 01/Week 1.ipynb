{
 "cells": [
  {
   "cell_type": "markdown",
   "metadata": {
    "collapsed": true
   },
   "source": [
    "# Week 1"
   ]
  },
  {
   "cell_type": "code",
   "execution_count": null,
   "metadata": {
    "collapsed": true
   },
   "outputs": [],
   "source": [
    "##### Assignment: Choose a dataset to visualize\n",
    "\n",
    "> Good dataset to visualize?\n",
    "> - As clean as possible\n",
    "> - Well-explained attributes, to avoid confusion and inaccuracy\n",
    "> - Many attributes of various types\n",
    "> - Generic attributes --> easy linking to other datasets\n",
    "> - Interesting topic to me, so I can ask relevant questions\n",
    "\n",
    "In order to choose a suitable dataset for myself to work with, I started brainstorming about my interests. Generally, this came down to these subjects:\n",
    "\n",
    "- Software\n",
    "- Soccer\n",
    "- Technology\n",
    "- Guitar\n",
    "- Blockchain\n",
    "- Games (League of Legends)\n",
    "\n",
    "The one thing that most of these have in common, is Modern Technological Development. I started playing guitar by watching youtube videos, and I can watch my favorite soccer games on TV, so in a sense for me, even those have something to do with modern technological development.\n",
    "\n",
    "Then I started to think about a dataset to accompany this interest. The reason we're all able to benefit from these developments, has everything to do with the availability of the internet, raising my first question: \n",
    "\n",
    "\n",
    "##### What's going on with global internet usage across the years?\n",
    "\n",
    "After a really long search, I was unable to acquire a suitable dataset to find an answer in for this question. \n",
    "Some of the websites I looked at:\n",
    "- https://ourworldindata.org/internet/\n",
    "- http://www.kdnuggets.com/datasets/index.html\n",
    "- https://catalog.data.gov/dataset?res_format=CSV&groups=consumer9350&_groups_limit=0&page=1\n",
    "- The most promising one: https://catalog.data.gov/dataset/current-population-survey-internet-and-computer-use-supplement/resource/5e311174-e05a-4901-b57f-402310477268 --> however, I was unable to retrieve the set due to technical issues with the website.\n",
    "\n",
    "In the end, I did find an equally as interesting dataset which covers every Reddit post on the subreddit 'worldnews', from 25-01-2008 to 2016-11-22. I've decided to use this dataset instead.\n",
    "\n",
    "The accompanying topic with this dataset is, obviously,\n",
    "# World News\n",
    "</br>\n",
    "\n",
    "\n",
    "Source: https://www.kaggle.com/rootuser/worldnews-on-reddit"
   ]
  },
  {
   "cell_type": "code",
   "execution_count": null,
   "metadata": {
    "collapsed": true
   },
   "outputs": [],
   "source": []
  }
 ],
 "metadata": {
  "kernelspec": {
   "display_name": "Python 3",
   "language": "python",
   "name": "python3"
  },
  "language_info": {
   "codemirror_mode": {
    "name": "ipython",
    "version": 3
   },
   "file_extension": ".py",
   "mimetype": "text/x-python",
   "name": "python",
   "nbconvert_exporter": "python",
   "pygments_lexer": "ipython3",
   "version": "3.6.1"
  }
 },
 "nbformat": 4,
 "nbformat_minor": 2
}
