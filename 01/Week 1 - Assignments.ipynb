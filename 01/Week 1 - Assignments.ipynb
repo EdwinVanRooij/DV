{
 "cells": [
  {
   "cell_type": "markdown",
   "metadata": {},
   "source": [
    "# DV01 - Datasets. Basic Chart Types"
   ]
  },
  {
   "cell_type": "markdown",
   "metadata": {},
   "source": [
    "## '1. Make some data'\n",
    "--> Downloaded the data as csv."
   ]
  },
  {
   "cell_type": "markdown",
   "metadata": {},
   "source": [
    "## '2. Reproducible Research'\n",
    "\n",
    "\n",
    "- Are older students taller?\n",
    "\n",
    "--> There does not seem to be a direct correlation between these two properties.\n"
   ]
  },
  {
   "cell_type": "code",
   "execution_count": 129,
   "metadata": {},
   "outputs": [
    {
     "data": {
      "text/html": [
       "<div>\n",
       "<style>\n",
       "    .dataframe thead tr:only-child th {\n",
       "        text-align: right;\n",
       "    }\n",
       "\n",
       "    .dataframe thead th {\n",
       "        text-align: left;\n",
       "    }\n",
       "\n",
       "    .dataframe tbody tr th {\n",
       "        vertical-align: top;\n",
       "    }\n",
       "</style>\n",
       "<table border=\"1\" class=\"dataframe\">\n",
       "  <thead>\n",
       "    <tr style=\"text-align: right;\">\n",
       "      <th></th>\n",
       "      <th>Timestamp</th>\n",
       "      <th>How much do you like Fontys so far?</th>\n",
       "      <th>What is your main study profile?</th>\n",
       "      <th>What aspect of Data Visualization is most interesting to you?</th>\n",
       "      <th>How much effort do you intend to invest into this subject?</th>\n",
       "      <th>Your age (in years)</th>\n",
       "      <th>Your height (in cm)</th>\n",
       "      <th>Your starsign</th>\n",
       "      <th>Your continent</th>\n",
       "      <th>How many cousins do you have?</th>\n",
       "      <th>Unnamed: 10</th>\n",
       "      <th>Do you like spicy food?</th>\n",
       "    </tr>\n",
       "  </thead>\n",
       "  <tbody>\n",
       "    <tr>\n",
       "      <th>0</th>\n",
       "      <td>9/1/2017 12:19:47</td>\n",
       "      <td>NaN</td>\n",
       "      <td>Software Engineering</td>\n",
       "      <td>(web) programming</td>\n",
       "      <td>10</td>\n",
       "      <td>21</td>\n",
       "      <td>420.69</td>\n",
       "      <td>Leo</td>\n",
       "      <td>Europe</td>\n",
       "      <td>7</td>\n",
       "      <td>Option 1</td>\n",
       "      <td>No</td>\n",
       "    </tr>\n",
       "    <tr>\n",
       "      <th>1</th>\n",
       "      <td>9/1/2017 12:22:32</td>\n",
       "      <td>NaN</td>\n",
       "      <td>Software Engineering</td>\n",
       "      <td>exploring/analysing</td>\n",
       "      <td>8</td>\n",
       "      <td>19</td>\n",
       "      <td>178.00</td>\n",
       "      <td>Cancer</td>\n",
       "      <td>Europe</td>\n",
       "      <td>0</td>\n",
       "      <td>Option 1</td>\n",
       "      <td>neutral</td>\n",
       "    </tr>\n",
       "    <tr>\n",
       "      <th>2</th>\n",
       "      <td>9/1/2017 12:23:13</td>\n",
       "      <td>NaN</td>\n",
       "      <td>Technology</td>\n",
       "      <td>designing and storytelling</td>\n",
       "      <td>7</td>\n",
       "      <td>20</td>\n",
       "      <td>182.00</td>\n",
       "      <td>Scorpio</td>\n",
       "      <td>Europe</td>\n",
       "      <td>12</td>\n",
       "      <td>Option 1</td>\n",
       "      <td>neutral</td>\n",
       "    </tr>\n",
       "    <tr>\n",
       "      <th>3</th>\n",
       "      <td>9/1/2017 12:23:21</td>\n",
       "      <td>NaN</td>\n",
       "      <td>Software Engineering</td>\n",
       "      <td>(web) programming</td>\n",
       "      <td>8</td>\n",
       "      <td>21</td>\n",
       "      <td>197.00</td>\n",
       "      <td>Cancer</td>\n",
       "      <td>Europe</td>\n",
       "      <td>19</td>\n",
       "      <td>Option 1</td>\n",
       "      <td>neutral</td>\n",
       "    </tr>\n",
       "    <tr>\n",
       "      <th>4</th>\n",
       "      <td>9/1/2017 12:26:08</td>\n",
       "      <td>NaN</td>\n",
       "      <td>Mathematics</td>\n",
       "      <td>designing and storytelling</td>\n",
       "      <td>8</td>\n",
       "      <td>23</td>\n",
       "      <td>183.00</td>\n",
       "      <td>Aquarius</td>\n",
       "      <td>Europe</td>\n",
       "      <td>27</td>\n",
       "      <td>NaN</td>\n",
       "      <td>Yes</td>\n",
       "    </tr>\n",
       "  </tbody>\n",
       "</table>\n",
       "</div>"
      ],
      "text/plain": [
       "           Timestamp  How much do you like Fontys so far?  \\\n",
       "0  9/1/2017 12:19:47                                  NaN   \n",
       "1  9/1/2017 12:22:32                                  NaN   \n",
       "2  9/1/2017 12:23:13                                  NaN   \n",
       "3  9/1/2017 12:23:21                                  NaN   \n",
       "4  9/1/2017 12:26:08                                  NaN   \n",
       "\n",
       "  What is your main study profile?  \\\n",
       "0             Software Engineering   \n",
       "1             Software Engineering   \n",
       "2                       Technology   \n",
       "3             Software Engineering   \n",
       "4                      Mathematics   \n",
       "\n",
       "  What aspect of Data Visualization is most interesting to you?  \\\n",
       "0                                  (web) programming              \n",
       "1                                exploring/analysing              \n",
       "2                         designing and storytelling              \n",
       "3                                  (web) programming              \n",
       "4                         designing and storytelling              \n",
       "\n",
       "   How much effort do you intend to invest into this subject?   \\\n",
       "0                                                 10             \n",
       "1                                                  8             \n",
       "2                                                  7             \n",
       "3                                                  8             \n",
       "4                                                  8             \n",
       "\n",
       "   Your age (in years)  Your height (in cm) Your starsign Your continent  \\\n",
       "0                   21               420.69           Leo         Europe   \n",
       "1                   19               178.00        Cancer         Europe   \n",
       "2                   20               182.00       Scorpio         Europe   \n",
       "3                   21               197.00        Cancer         Europe   \n",
       "4                   23               183.00      Aquarius         Europe   \n",
       "\n",
       "  How many cousins do you have? Unnamed: 10 Do you like spicy food?  \n",
       "0                             7    Option 1                      No  \n",
       "1                             0    Option 1                 neutral  \n",
       "2                            12    Option 1                 neutral  \n",
       "3                            19    Option 1                 neutral  \n",
       "4                            27         NaN                     Yes  "
      ]
     },
     "execution_count": 129,
     "metadata": {},
     "output_type": "execute_result"
    }
   ],
   "source": [
    "import numpy as np\n",
    "import matplotlib as mpl\n",
    "import pandas as pd\n",
    "from matplotlib import pyplot as plt\n",
    "\n",
    "# we need the following line to indicate that the plots should be shown inline with the Jupyter notebook.\n",
    "%matplotlib inline\n",
    "\n",
    "# Survey class data\n",
    "df = pd.read_csv('survey.csv', sep=',', low_memory=False, encoding = 'ISO-8859-1')\n",
    "\n",
    "df.head()"
   ]
  },
  {
   "cell_type": "code",
   "execution_count": 96,
   "metadata": {},
   "outputs": [
    {
     "data": {
      "text/plain": [
       "<matplotlib.text.Text at 0x7f75dddd9cc0>"
      ]
     },
     "execution_count": 96,
     "metadata": {},
     "output_type": "execute_result"
    },
    {
     "data": {
      "image/png": "[encoded data removed]",
      "text/plain": [
       "<matplotlib.figure.Figure at 0x7f75ddca35c0>"
      ]
     },
     "metadata": {},
     "output_type": "display_data"
    }
   ],
   "source": [
    "df_filtered = df[df['Your age (in years)'] > 15]  \n",
    "df_filtered = df_filtered[df_filtered['Your age (in years)'] < 50]\n",
    "\n",
    "df_filtered = df_filtered[df_filtered['Your height (in cm)'] > 100] \n",
    "df_filtered = df_filtered[df_filtered['Your height (in cm)'] < 300]\n",
    "\n",
    "x_age = df_filtered['Your age (in years)']\n",
    "y_height = df_filtered['Your height (in cm)']\n",
    "\n",
    "plt.plot(x_age, y_height, 'ro')\n",
    "plt.title('Age & height correlation')\n",
    "plt.ylabel('height')\n",
    "plt.xlabel('age')"
   ]
  },
  {
   "cell_type": "markdown",
   "metadata": {},
   "source": [
    "- Make a histogram for every quantitative attribute. What are these charts saying?\n",
    "\n",
    "--> ."
   ]
  },
  {
   "cell_type": "code",
   "execution_count": 108,
   "metadata": {},
   "outputs": [
    {
     "data": {
      "text/plain": [
       "<matplotlib.text.Text at 0x7f75dd3520b8>"
      ]
     },
     "execution_count": 108,
     "metadata": {},
     "output_type": "execute_result"
    },
    {
     "data": {
      "image/png": "[encoded data removed]",
      "text/plain": [
       "<matplotlib.figure.Figure at 0x7f75dd415ef0>"
      ]
     },
     "metadata": {},
     "output_type": "display_data"
    }
   ],
   "source": [
    "effort = df['How much effort do you intend to invest into this subject? ']\n",
    "\n",
    "plt.hist(effort)\n",
    "plt.title(\"Effort intended\")\n",
    "plt.xlabel(\"Scale of 1 to 10\")\n",
    "plt.ylabel(\"Frequency\")"
   ]
  },
  {
   "cell_type": "code",
   "execution_count": 114,
   "metadata": {},
   "outputs": [
    {
     "data": {
      "text/plain": [
       "<matplotlib.text.Text at 0x7f75dd8c3940>"
      ]
     },
     "execution_count": 114,
     "metadata": {},
     "output_type": "execute_result"
    },
    {
     "data": {
      "image/png": "[encoded data removed]",
      "text/plain": [
       "<matplotlib.figure.Figure at 0x7f75dd01e7b8>"
      ]
     },
     "metadata": {},
     "output_type": "display_data"
    }
   ],
   "source": [
    "age = df['Your age (in years)']\n",
    "\n",
    "plt.hist(age)\n",
    "plt.title(\"Amount of people with a certain age\")\n",
    "plt.xlabel(\"Age\")\n",
    "plt.ylabel(\"Frequency\")"
   ]
  },
  {
   "cell_type": "code",
   "execution_count": 149,
   "metadata": {},
   "outputs": [
    {
     "data": {
      "text/plain": [
       "<matplotlib.text.Text at 0x7f75dca49978>"
      ]
     },
     "execution_count": 149,
     "metadata": {},
     "output_type": "execute_result"
    },
    {
     "data": {
      "image/png": "[encoded data removed]",
      "text/plain": [
       "<matplotlib.figure.Figure at 0x7f75dc9850f0>"
      ]
     },
     "metadata": {},
     "output_type": "display_data"
    }
   ],
   "source": [
    "df_filtered = df[df['How many cousins do you have?'].apply(lambda x: x.isnumeric())]\n",
    "df_filtered = df[df['How many cousins do you have?'].apply(lambda x: len(x) < 5)]\n",
    "df_filtered = df_filtered[df_filtered['How many cousins do you have?'].astype(int) < 1000]\n",
    "\n",
    "cousins = df_filtered['How many cousins do you have?'].astype(int)\n",
    "\n",
    "plt.hist(cousins)\n",
    "plt.title(\"People with a certain amount of cousins\")\n",
    "plt.xlabel(\"Amount of cousins\")\n",
    "plt.ylabel(\"Frequency\")"
   ]
  },
  {
   "cell_type": "markdown",
   "metadata": {},
   "source": [
    "## '3. Attribute types'\n",
    "\n",
    "Examine each attribute"
   ]
  },
  {
   "cell_type": "code",
   "execution_count": 151,
   "metadata": {},
   "outputs": [
    {
     "data": {
      "text/plain": [
       "Timestamp                                                         object\n",
       "How much do you like Fontys so far?                              float64\n",
       "What is your main study profile?                                  object\n",
       "What aspect of Data Visualization is most interesting to you?     object\n",
       "How much effort do you intend to invest into this subject?         int64\n",
       "Your age (in years)                                                int64\n",
       "Your height (in cm)                                              float64\n",
       "Your starsign                                                     object\n",
       "Your continent                                                    object\n",
       "How many cousins do you have?                                     object\n",
       "Unnamed: 10                                                       object\n",
       "Do you like spicy food?                                           object\n",
       "dtype: object"
      ]
     },
     "execution_count": 151,
     "metadata": {},
     "output_type": "execute_result"
    }
   ],
   "source": [
    "df.dtypes"
   ]
  },
  {
   "cell_type": "code",
   "execution_count": null,
   "metadata": {
    "collapsed": true
   },
   "outputs": [],
   "source": [
    "## '4. Attribute types'\n",
    "\n",
    "Examine each attribute"
   ]
  }
 ],
 "metadata": {
  "kernelspec": {
   "display_name": "Python 3",
   "language": "python",
   "name": "python3"
  },
  "language_info": {
   "codemirror_mode": {
    "name": "ipython",
    "version": 3
   },
   "file_extension": ".py",
   "mimetype": "text/x-python",
   "name": "python",
   "nbconvert_exporter": "python",
   "pygments_lexer": "ipython3",
   "version": "3.6.1"
  }
 },
 "nbformat": 4,
 "nbformat_minor": 2
}
