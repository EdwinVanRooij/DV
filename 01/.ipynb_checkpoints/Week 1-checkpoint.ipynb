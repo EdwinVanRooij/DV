{
 "cells": [
  {
   "cell_type": "markdown",
   "metadata": {
    "collapsed": true
   },
   "source": [
    "# Week 1"
   ]
  },
  {
   "cell_type": "markdown",
   "metadata": {
    "collapsed": true
   },
   "source": [
    "##### Assignment: Choose a dataset to visualize\n",
    "\n",
    "> Good dataset to visualize?\n",
    "> - As clean as possible\n",
    "> - Well-explained attributes, to avoid confusion and inaccuracy\n",
    "> - Many attributes of various types\n",
    "> - Generic attributes --> easy linking to other datasets\n",
    "> - Interesting topic to me, so I can ask relevant questions\n",
    "\n",
    "In order to choose a suitable dataset for myself to work with, I started brainstorming about my interests. Generally, this came do"
   ]
  },
  {
   "cell_type": "code",
   "execution_count": 8,
   "metadata": {},
   "outputs": [
    {
     "name": "stdout",
     "output_type": "stream",
     "text": [
      "test\n"
     ]
    }
   ],
   "source": []
  },
  {
   "cell_type": "code",
   "execution_count": null,
   "metadata": {
    "collapsed": true
   },
   "outputs": [],
   "source": []
  }
 ],
 "metadata": {
  "kernelspec": {
   "display_name": "Python 3",
   "language": "python",
   "name": "python3"
  },
  "language_info": {
   "codemirror_mode": {
    "name": "ipython",
    "version": 3
   },
   "file_extension": ".py",
   "mimetype": "text/x-python",
   "name": "python",
   "nbconvert_exporter": "python",
   "pygments_lexer": "ipython3",
   "version": "3.6.1"
  }
 },
 "nbformat": 4,
 "nbformat_minor": 2
}
